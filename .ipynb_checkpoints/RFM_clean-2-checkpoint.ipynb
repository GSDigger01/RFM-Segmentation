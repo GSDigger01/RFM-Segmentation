version https://git-lfs.github.com/spec/v1
oid sha256:094f20703502f635bbe2aca164ddd9cb055000291645159d672584a7834f96a3
size 76238323
