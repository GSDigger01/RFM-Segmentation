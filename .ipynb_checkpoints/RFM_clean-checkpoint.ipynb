version https://git-lfs.github.com/spec/v1
oid sha256:fe560b386bd02cbc4ecc404c29908c0d723e50991ffee743bcda23153d80fe93
size 15943
