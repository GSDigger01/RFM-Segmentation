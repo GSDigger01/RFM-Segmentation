version https://git-lfs.github.com/spec/v1
oid sha256:1f37d6c2bfb731b2597282e3e8d784432dceff1a82d2cd0fb45c00e5ae922cc9
size 3882281
