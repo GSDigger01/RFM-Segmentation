version https://git-lfs.github.com/spec/v1
oid sha256:38e0c4210959cc814f418b2c430e08485c4899cced275398685f7e03216fa62a
size 88020613
