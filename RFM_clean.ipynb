version https://git-lfs.github.com/spec/v1
oid sha256:9bcd45cd58bbdb1067fdc86856081437d4c39416b967d5bf64a6480f70aa080e
size 88170421
